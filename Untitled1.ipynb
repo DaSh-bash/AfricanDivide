{
 "cells": [
  {
   "cell_type": "code",
   "execution_count": 1,
   "metadata": {
    "collapsed": true
   },
   "outputs": [],
   "source": [
    "from matplotlib import pyplot as plt\n",
    "from matplotlib.collections import BrokenBarHCollection\n",
    "import pandas"
   ]
  },
  {
   "cell_type": "code",
   "execution_count": null,
   "metadata": {
    "collapsed": true
   },
   "outputs": [],
   "source": [
    "def chromosome_collections(df, y_positions, height,  **kwargs):\n",
    "\"\"\"\n",
    "    Yields BrokenBarHCollection of features that can be added to an Axes\n",
    "    object.\n",
    "    \n",
    "    Parameters\n",
    "    ----------\n",
    "    df : pandas.DataFrame\n",
    "        Must at least have columns ['chrom', 'start', 'end', 'color']. If no\n",
    "        column 'width', it will be calculated from start/end.\n",
    "    y_positions : dict\n",
    "        Keys are chromosomes, values are y-value at which to anchor the\n",
    "        BrokenBarHCollection\n",
    "    height : float\n",
    "        Height of each BrokenBarHCollection\n",
    "    Additional kwargs are passed to BrokenBarHCollection\n",
    "    \"\"\"\n",
    "    del_width = False\n",
    "    if 'width' not in df.columns:\n",
    "    del_width = True\n",
    "    df['width'] = df['end'] - df['start']\n",
    "    for chrom, group in df.groupby('chrom'):\n",
    "    print chrom\n",
    "    yrange = (y_positions[chrom], height)\n",
    "    xranges = group[['start', 'width']].values\n",
    "    yield BrokenBarHCollection(\n",
    "    xranges, yrange, facecolors=group['colors'], **kwargs)\n",
    "    if del_width:\n",
    "    del df['width']\n",
    "# Height of each ideogram\n",
    "    chrom_height = 1\n",
    "# Spacing between consecutive ideograms\n",
    "    chrom_spacing = 1\n",
    "# Height of the gene track. Should be smaller than `chrom_spacing` in order to\n",
    "# fit correctly\n",
    "    gene_height = 0.4\n",
    "# Padding between the top of a gene track and its corresponding ideogram\n",
    "    gene_padding = 0.1\n",
    "# Width, height (in inches)\n",
    "    figsize = (6, 8)\n",
    "# Decide which chromosomes to use\n",
    "    chromosome_list = ['chr%s' % i for i in range(1, 23) + ['M', 'X', 'Y']]\n",
    "# Keep track of the y positions for ideograms and genes for each chromosome,\n",
    "# and the center of each ideogram (which is where we'll put the ytick labels)\n",
    "ybase = 0\n",
    "chrom_ybase = {}\n",
    "gene_ybase = {}\n",
    "chrom_centers = {}\n",
    "# Iterate in reverse so that items in the beginning of `chromosome_list` will\n",
    "# appear at the top of the plot\n",
    "for chrom in chromosome_list[::-1]:\n",
    "chrom_ybase[chrom] = ybase\n",
    "chrom_centers[chrom] = ybase + chrom_height / 2.\n",
    "gene_ybase[chrom] = ybase - gene_height - gene_padding\n",
    "ybase += chrom_height + chrom_spacing"
   ]
  }
 ],
 "metadata": {
  "kernelspec": {
   "display_name": "Python 3",
   "language": "python",
   "name": "python3"
  },
  "language_info": {
   "codemirror_mode": {
    "name": "ipython",
    "version": 3
   },
   "file_extension": ".py",
   "mimetype": "text/x-python",
   "name": "python",
   "nbconvert_exporter": "python",
   "pygments_lexer": "ipython3",
   "version": "3.6.3"
  },
  "toc": {
   "base_numbering": 1,
   "nav_menu": {},
   "number_sections": true,
   "sideBar": true,
   "skip_h1_title": false,
   "title_cell": "Table of Contents",
   "title_sidebar": "Contents",
   "toc_cell": false,
   "toc_position": {},
   "toc_section_display": true,
   "toc_window_display": false
  }
 },
 "nbformat": 4,
 "nbformat_minor": 2
}
